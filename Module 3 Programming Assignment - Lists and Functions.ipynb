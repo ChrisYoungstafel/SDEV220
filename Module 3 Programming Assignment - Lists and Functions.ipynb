{
 "cells": [
  {
   "cell_type": "code",
   "execution_count": 16,
   "metadata": {},
   "outputs": [
    {
     "name": "stdout",
     "output_type": "stream",
     "text": [
      "mozzarella\n",
      "cinderella\n",
      "salmonella\n"
     ]
    }
   ],
   "source": [
    "# 7.4. Make a list called things with three strings.\n",
    "things = [\"mozzarella\", \"cinderella\", \"salmonella\"]\n",
    "print('\\n'.join(things))"
   ]
  },
  {
   "cell_type": "code",
   "execution_count": 17,
   "metadata": {},
   "outputs": [
    {
     "name": "stdout",
     "output_type": "stream",
     "text": [
      "mozzarella\n",
      "cinderella\n",
      "salmonella\n"
     ]
    }
   ],
   "source": [
    "# 7.5 Capitalize the element in things that refers to a person and then print the list. Did it change the element in the list?\n",
    "things = [\"mozzarella\", \"cinderella\", \"salmonella\"]\n",
    "things[1].capitalize()\n",
    "print('\\n'.join(things))\n",
    "\n",
    "# no change to the list"
   ]
  },
  {
   "cell_type": "code",
   "execution_count": 18,
   "metadata": {},
   "outputs": [
    {
     "name": "stdout",
     "output_type": "stream",
     "text": [
      "MOZZARELLA\n",
      "cinderella\n",
      "salmonella\n"
     ]
    }
   ],
   "source": [
    "# 7.6 Make the cheesy element of things all uppercase and then print the list.\n",
    "things = [\"mozzarella\", \"cinderella\", \"salmonella\"]\n",
    "things[0] = things[0].upper()\n",
    "print('\\n'.join(things))"
   ]
  },
  {
   "cell_type": "code",
   "execution_count": 19,
   "metadata": {},
   "outputs": [
    {
     "name": "stdout",
     "output_type": "stream",
     "text": [
      "mozzarella\n",
      "cinderella\n",
      "You've been awarded a Nobel Prize\n"
     ]
    }
   ],
   "source": [
    "# 7.7 Delete the disease element from things, collect your Nobel Prize, and print the list.\n",
    "things = [\"mozzarella\", \"cinderella\", \"salmonella\"]\n",
    "things.remove(\"salmonella\")\n",
    "print('\\n'.join(things) + \"\\nYou've been awarded a Nobel Prize\")"
   ]
  },
  {
   "cell_type": "code",
   "execution_count": 20,
   "metadata": {},
   "outputs": [
    {
     "name": "stdout",
     "output_type": "stream",
     "text": [
      "Harry\n",
      "Ron\n",
      "Hermione\n"
     ]
    }
   ],
   "source": [
    "# 9.1 Define a function called good() that returns the following list: ['Harry', 'Ron', 'Hermione'].\n",
    "def good():\n",
    "    return [\"Harry\", \"Ron\", \"Hermione\"]\n",
    "print('\\n'.join(good()))"
   ]
  },
  {
   "cell_type": "code",
   "execution_count": 21,
   "metadata": {},
   "outputs": [
    {
     "name": "stdout",
     "output_type": "stream",
     "text": [
      "5\n"
     ]
    }
   ],
   "source": [
    "# 9.2 Define a generator function called get_odds() that returns the odd numbers from range(10). Use a for loop to find and print the third value returned.\n",
    "def get_odds():\n",
    "    for num in range(10):\n",
    "        if num % 2 != 0:\n",
    "            yield num\n",
    "result = list(get_odds())[2]\n",
    "print(result)"
   ]
  }
 ],
 "metadata": {
  "kernelspec": {
   "display_name": "Python 3",
   "language": "python",
   "name": "python3"
  },
  "language_info": {
   "codemirror_mode": {
    "name": "ipython",
    "version": 3
   },
   "file_extension": ".py",
   "mimetype": "text/x-python",
   "name": "python",
   "nbconvert_exporter": "python",
   "pygments_lexer": "ipython3",
   "version": "3.13.1"
  }
 },
 "nbformat": 4,
 "nbformat_minor": 2
}
