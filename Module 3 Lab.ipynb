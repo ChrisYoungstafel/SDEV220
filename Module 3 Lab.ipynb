{
 "cells": [
  {
   "cell_type": "code",
   "execution_count": 15,
   "metadata": {},
   "outputs": [
    {
     "name": "stdout",
     "output_type": "stream",
     "text": [
      "\n",
      "Car details\n",
      "Vehicle type car\n",
      "Year 2009\n",
      "Make Ford\n",
      "Model F150\n",
      "Number of doors 4\n",
      "Type of roof solid\n"
     ]
    }
   ],
   "source": [
    "# Christopher Youngstafel\n",
    "# Module 3 Lab\n",
    "# 02/02/2025\n",
    "\n",
    "# superclass with vehicle attribute\n",
    "class Vehicle:\n",
    "    def __init__(self, vehicle_type):\n",
    "        self.vehicle_type = vehicle_type\n",
    "\n",
    "# subclass\n",
    "class Automobile(Vehicle):\n",
    "    def __init__(self, year, make, model, doors, roof):\n",
    "        Vehicle.__init__(self, \"car\")\n",
    "        self.year = year\n",
    "        self.make = make\n",
    "        self.model = model\n",
    "        self.doors = doors\n",
    "        self.roof = roof\n",
    "\n",
    "    def display_info(self):\n",
    "        vehicle_info = \"Vehicle type \" + self.vehicle_type\n",
    "        year_info = \"Year \" + self.year\n",
    "        make_info = \"Make \" + self.make\n",
    "        model_info = \"Model \" + self.model\n",
    "        doors_info = \"Number of doors \" + self.doors\n",
    "        roof_info = \"Type of roof \" + self.roof\n",
    "\n",
    "        print(vehicle_info)\n",
    "        print(year_info)\n",
    "        print(make_info)\n",
    "        print(model_info)\n",
    "        print(doors_info)\n",
    "        print(roof_info)\n",
    "\n",
    "def main():\n",
    "    \n",
    "    input_year = input(\"Enter year \")\n",
    "    input_make = input(\"Enter make \")\n",
    "    input_model = input(\"Enter model \")\n",
    "\n",
    "    # input sb 2 or 4\n",
    "    while True:\n",
    "        input_doors = input(\"Enter number of doors (2 or 4) \")\n",
    "        if input_doors == \"2\" or input_doors == \"4\":\n",
    "            break\n",
    "        else:\n",
    "            print(\"Enter only 2 or 4\")\n",
    "\n",
    "    # input can only be sun roof or solid\n",
    "    while True:\n",
    "        input_roof = input(\"Enter roof type (solid or sun roof) \").lower()\n",
    "        if input_roof == \"solid\" or input_roof == \"sun roof\":\n",
    "            break\n",
    "        else:\n",
    "            print(\"Enter only 'solid' or 'sun roof'.\")\n",
    "\n",
    "    # Create an Automobile object with the validated inputs\n",
    "    myCar = Automobile(input_year, input_make, input_model, input_doors, input_roof)\n",
    "    print(\"\")\n",
    "    print(\"Car details\")\n",
    "    myCar.display_info()\n",
    "\n",
    "if __name__ == '__main__':\n",
    "    main()\n",
    "\n"
   ]
  }
 ],
 "metadata": {
  "kernelspec": {
   "display_name": "Python 3",
   "language": "python",
   "name": "python3"
  },
  "language_info": {
   "codemirror_mode": {
    "name": "ipython",
    "version": 3
   },
   "file_extension": ".py",
   "mimetype": "text/x-python",
   "name": "python",
   "nbconvert_exporter": "python",
   "pygments_lexer": "ipython3",
   "version": "3.13.1"
  }
 },
 "nbformat": 4,
 "nbformat_minor": 2
}
