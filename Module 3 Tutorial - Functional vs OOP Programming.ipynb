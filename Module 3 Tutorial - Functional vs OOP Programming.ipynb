{
 "cells": [
  {
   "cell_type": "code",
   "execution_count": null,
   "metadata": {},
   "outputs": [],
   "source": [
    "class Solution:\n",
    "    # Function to sort an array of 0s, 1s, and 2s\n",
    "    def sort012(self, arr):\n",
    "        low = 0\n",
    "        mid = 0\n",
    "        high = len(arr) - 1\n",
    "\n",
    "        # Process elements from start (mid) until mid passes high.\n",
    "        while mid <= high:\n",
    "            if arr[mid] == 0:\n",
    "                # Swap arr[low] and arr[mid] and move both pointers forward.\n",
    "                arr[low], arr[mid] = arr[mid], arr[low]\n",
    "                low += 1\n",
    "                mid += 1\n",
    "            elif arr[mid] == 1:\n",
    "                # If the element is 1, just move mid pointer.\n",
    "                mid += 1\n",
    "            else:  # arr[mid] == 2\n",
    "                # Swap arr[mid] and arr[high] and move high pointer backward.\n",
    "                arr[mid], arr[high] = arr[high], arr[mid]\n",
    "                high -= 1\n",
    "        \n"
   ]
  },
  {
   "cell_type": "code",
   "execution_count": null,
   "metadata": {},
   "outputs": [],
   "source": [
    "class Solution:\n",
    "    # Function to sort an array of 0s, 1s, and 2s (from a previous problem)\n",
    "    def sort012(self, arr):\n",
    "        low = 0\n",
    "        mid = 0\n",
    "        high = len(arr) - 1\n",
    "\n",
    "        # Process elements from start (mid) until mid passes high.\n",
    "        while mid <= high:\n",
    "            if arr[mid] == 0:\n",
    "                # Swap arr[low] and arr[mid] and move both pointers forward.\n",
    "                arr[low], arr[mid] = arr[mid], arr[low]\n",
    "                low += 1\n",
    "                mid += 1\n",
    "            elif arr[mid] == 1:\n",
    "                # If the element is 1, just move mid pointer.\n",
    "                mid += 1\n",
    "            else:  # arr[mid] == 2\n",
    "                # Swap arr[mid] and arr[high] and move high pointer backward.\n",
    "                arr[mid], arr[high] = arr[high], arr[mid]\n",
    "                high -= 1\n",
    "\n",
    "    # Function to find the smallest index of k in a sorted array using binary search.\n",
    "    def binarysearch(self, arr, k):\n",
    "        low = 0\n",
    "        high = len(arr) - 1\n",
    "        result = -1  # Default if k is not found\n",
    "\n",
    "        while low <= high:\n",
    "            mid = (low + high) // 2\n",
    "            if arr[mid] < k:\n",
    "                low = mid + 1\n",
    "            elif arr[mid] > k:\n",
    "                high = mid - 1\n",
    "            else:\n",
    "                # When arr[mid] equals k, record the index\n",
    "                result = mid\n",
    "                # Continue searching the left half to find an earlier occurrence\n",
    "                high = mid - 1\n",
    "        return result\n"
   ]
  }
 ],
 "metadata": {
  "kernelspec": {
   "display_name": "Python 3",
   "language": "python",
   "name": "python3"
  },
  "language_info": {
   "codemirror_mode": {
    "name": "ipython",
    "version": 3
   },
   "file_extension": ".py",
   "mimetype": "text/x-python",
   "name": "python",
   "nbconvert_exporter": "python",
   "pygments_lexer": "ipython3",
   "version": "3.13.1"
  }
 },
 "nbformat": 4,
 "nbformat_minor": 2
}
