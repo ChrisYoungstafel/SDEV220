{
 "cells": [
  {
   "cell_type": "code",
   "execution_count": 2,
   "metadata": {},
   "outputs": [
    {
     "name": "stdout",
     "output_type": "stream",
     "text": [
      "too high\n"
     ]
    }
   ],
   "source": [
    "# 4.1 Choose a number between 1 and 10 and assign it to the variable secret. \n",
    "# Then, select another number between 1 and 10 and assign it to the variable guess. \n",
    "# Next, write the conditional tests (if, else, and elif) to print the string \n",
    "# 'too low' if guess is less than secret, 'too high' if greater than secret, and 'just right' if equal to secret.\n",
    "\n",
    "# assign variable\n",
    "secret = 3\n",
    "guess = 5\n",
    "\n",
    "# check if guess is too high, low, or just right and print message\n",
    "if (guess > secret):\n",
    "    print(\"too high\")\n",
    "elif (guess == secret):\n",
    "    print (\"just right\")\n",
    "else:\n",
    "    print (\"too low\")"
   ]
  },
  {
   "cell_type": "code",
   "execution_count": 6,
   "metadata": {},
   "outputs": [
    {
     "name": "stdout",
     "output_type": "stream",
     "text": [
      "The Pumpkin not small and not green\n"
     ]
    }
   ],
   "source": [
    "# 4.2 Assign True or False to the variables small and green. \n",
    "# Write some if/else statements to print which of these matches those choices: cherry, pea, watermelon, pumpkin.\n",
    "\n",
    "# assign true to variables\n",
    "small = False\n",
    "green = False\n",
    "\n",
    "# figure out the object true/true is a pea\n",
    "if small and green:\n",
    "    print (\"The pea is small and green\")\n",
    "elif small and not green:\n",
    "    print (\"The cherry is small and not green\")\n",
    "elif not small and green:\n",
    "    print (\"The watermelon is not small but is green\")\n",
    "elif not small and not green:\n",
    "    print (\"The Pumpkin not small and not green\")"
   ]
  },
  {
   "cell_type": "code",
   "execution_count": 7,
   "metadata": {},
   "outputs": [
    {
     "name": "stdout",
     "output_type": "stream",
     "text": [
      "3\n",
      "2\n",
      "1\n",
      "0\n"
     ]
    }
   ],
   "source": [
    "# 6.1 Use a for loop to print the values of the list [3, 2, 1, 0].\n",
    "\n",
    "# assign the array\n",
    "numbers = [3, 2, 1, 0]\n",
    "\n",
    "# loop through array\n",
    "for i in numbers:\n",
    "    print(i)"
   ]
  },
  {
   "cell_type": "code",
   "execution_count": 10,
   "metadata": {},
   "outputs": [
    {
     "name": "stdout",
     "output_type": "stream",
     "text": [
      "1 is too low\n",
      "2 is too low\n",
      "3 is too low\n",
      "4 is too low\n",
      "5 is too low\n",
      "6 is too low\n",
      "Found it! The number is 7\n"
     ]
    }
   ],
   "source": [
    "# 6.2 Assign the value 7 to the variable guess_me, and the value 1 to the variable number. \n",
    "# Write a while loop that compares number with guess_me. \n",
    "# Print 'too low' if number is less than guess me. \n",
    "# If number equals guess_me, print 'found it!' and then exit the loop. \n",
    "# If number is greater than guess_me, print 'oops' and then exit the loop. Increment number at the end of the loop.\n",
    "\n",
    "# assign variables\n",
    "guess_me = 7\n",
    "number = 1\n",
    "\n",
    "# loop through to compare numbers\n",
    "while number <= guess_me:\n",
    "    if number < guess_me:\n",
    "        print (str(number) + \" is too low\")\n",
    "    elif number == guess_me:\n",
    "        print (\"Found it, the number is \" + str(number))\n",
    "        break\n",
    "    number += 1\n",
    "else:\n",
    "    print (\"Oops \" + str(number) + \" is too large\")"
   ]
  },
  {
   "cell_type": "code",
   "execution_count": 11,
   "metadata": {},
   "outputs": [
    {
     "name": "stdout",
     "output_type": "stream",
     "text": [
      "too low\n",
      "too low\n",
      "too low\n",
      "too low\n",
      "too low\n",
      "found it, the guess is 5\n"
     ]
    }
   ],
   "source": [
    "# 6.3 Assign the value 5 to the variable guess_me. \n",
    "# Use a for loop to iterate a variable called number over range(10). \n",
    "# If number is less than guess_me, print 'too low'. \n",
    "# If it equals guess_me, print found it! and then break out of the for loop. \n",
    "# If number is greater than guess_me, print 'oops' and then exit the loop.\n",
    "\n",
    "# assign the variable\n",
    "guess_me = 5\n",
    "\n",
    "# loop through range of 10\n",
    "for i in range(10):\n",
    "    if i < guess_me:\n",
    "        print (\"too low\")\n",
    "    elif i == guess_me:\n",
    "        print (\"found it, the guess is \" + str(i))\n",
    "        break\n",
    "    else:\n",
    "        print(\"Oops\")\n",
    "        break"
   ]
  }
 ],
 "metadata": {
  "kernelspec": {
   "display_name": "Python 3",
   "language": "python",
   "name": "python3"
  },
  "language_info": {
   "codemirror_mode": {
    "name": "ipython",
    "version": 3
   },
   "file_extension": ".py",
   "mimetype": "text/x-python",
   "name": "python",
   "nbconvert_exporter": "python",
   "pygments_lexer": "ipython3",
   "version": "3.13.1"
  }
 },
 "nbformat": 4,
 "nbformat_minor": 2
}
